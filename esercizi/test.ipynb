{
 "cells": [
  {
   "cell_type": "code",
   "execution_count": 2,
   "metadata": {},
   "outputs": [
    {
     "name": "stdout",
     "output_type": "stream",
     "text": [
      "Presente\n",
      "Errori a disposizione 5\n",
      "Presente\n",
      "Errori a disposizione 5\n"
     ]
    }
   ],
   "source": [
    "# Es 8.1 Creare il gioco dell'impiccato\n",
    "# Suggerimento: per controllare se la lettera 'a' è presente all'interno della parola 'casa' si può usare:\n",
    "#\n",
    "# if 'a' in 'casa':\n",
    "#   print('Presente')\n",
    "parola = str(input(\"Inserisci la parola: \"))\n",
    "vite = 5\n",
    "while vite > 0:\n",
    "    x = str(input(\"Inserisci la lettera: \"))\n",
    "    if x in parola:\n",
    "        print(\"Presente\")\n",
    "        print(\"Errori a disposizione\", vite)\n",
    "    else:\n",
    "        print(\"Non presente. Riprova!\")\n",
    "        vite = vite - 1\n",
    "\n",
    "    \n"
   ]
  }
 ],
 "metadata": {
  "kernelspec": {
   "display_name": "Python 3",
   "language": "python",
   "name": "python3"
  },
  "language_info": {
   "codemirror_mode": {
    "name": "ipython",
    "version": 3
   },
   "file_extension": ".py",
   "mimetype": "text/x-python",
   "name": "python",
   "nbconvert_exporter": "python",
   "pygments_lexer": "ipython3",
   "version": "3.10.8"
  }
 },
 "nbformat": 4,
 "nbformat_minor": 2
}
