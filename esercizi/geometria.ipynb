{
  "cells": [
    {
      "cell_type": "markdown",
      "metadata": {
        "id": "HB3XbPDcSqe1"
      },
      "source": [
        "# Esercizi Geometrici"
      ]
    },
    {
      "cell_type": "markdown",
      "metadata": {
        "id": "LCcywn6v2KxD"
      },
      "source": [
        "In Python per stampare consecutivamente più parole senza creare una riga per ognuna bisogna usare il seguente codice:\n"
      ]
    },
    {
      "cell_type": "code",
      "execution_count": 12,
      "metadata": {
        "colab": {
          "base_uri": "https://localhost:8080/"
        },
        "id": "PHdyo8E42sza",
        "outputId": "fb51a75d-54ef-48c3-f6ad-342834d2738b"
      },
      "outputs": [
        {
          "name": "stdout",
          "output_type": "stream",
          "text": [
            "Parola 1 Parola 2.\n",
            "Parola 3\n"
          ]
        }
      ],
      "source": [
        "print(\"Parola 1\", end=\" \")\n",
        "print(\"Parola 2\", end=\".\\n\")\n",
        "print(\"Parola 3\")"
      ]
    },
    {
      "cell_type": "code",
      "execution_count": 13,
      "metadata": {
        "colab": {
          "base_uri": "https://localhost:8080/"
        },
        "id": "0U7L9A29RfeT",
        "outputId": "ccdd9b72-55df-486a-a68d-cfe73e90461d"
      },
      "outputs": [
        {
          "name": "stdout",
          "output_type": "stream",
          "text": [
            "* * * * \n",
            "* * * * \n",
            "* * * * \n",
            "* * * * \n"
          ]
        }
      ],
      "source": [
        "# Es 6.1: Scrivi la funzione quadrato(n) che stampi a schermo un quadrato di lato nxn formato utilizzando il carattere *\n",
        "#         Esempio:    3 ->  * * *       4 ->  * * * *\n",
        "#                           * * *             * * * *\n",
        "#                           * * *             * * * *\n",
        "#                                             * * * *\n",
        "n = int(input(\"Inserisci il valore di n: \"))\n",
        "def quadrato(n):\n",
        "    if n > 0:\n",
        "        for y in range(n):\n",
        "            for x in range(n):\n",
        "                print(\"*\", end=\" \")\n",
        "            print()\n",
        "    else:\n",
        "        print(\"Non esiste questo valore per n\")\n",
        "\n",
        "quadrato(n)\n"
      ]
    },
    {
      "cell_type": "code",
      "execution_count": 14,
      "metadata": {
        "id": "gE3RVr9ORuwP"
      },
      "outputs": [
        {
          "name": "stdout",
          "output_type": "stream",
          "text": [
            "* * * * * * * * \n",
            "* * * * * * * * \n",
            "* * * * * * * * \n",
            "* * * * * * * * \n"
          ]
        }
      ],
      "source": [
        "# Es 6.2: Scrivi la funzione rettangolo(n) che stampi a schermo un rettangolo di lato nx2n formato utilizzando il carattere *\n",
        "#         Esempio:    3 ->  * * * * * *         4 ->  * * * * * * * *\n",
        "#                           * * * * * *               * * * * * * * *\n",
        "#                           * * * * * *               * * * * * * * *\n",
        "#                                                     * * * * * * * *\n",
        "n = int(input(\"Inserisci il valore di n: \"))\n",
        "def rettangolo(n):\n",
        "    if n > 0:\n",
        "        for y in range(n):\n",
        "            for x in range(2*n):\n",
        "                print(\"*\", end=\" \")\n",
        "            print()\n",
        "    else:\n",
        "        print(\"Non esiste questo valore per n\")\n",
        "\n",
        "rettangolo(n)\n",
        "                "
      ]
    },
    {
      "cell_type": "code",
      "execution_count": 15,
      "metadata": {
        "id": "r1A_DavcSKgi"
      },
      "outputs": [
        {
          "name": "stdout",
          "output_type": "stream",
          "text": [
            "* \n",
            "* * \n",
            "* * * \n",
            "* * * * \n"
          ]
        }
      ],
      "source": [
        "# Es 6.3: Scrivi la funzione triangolo_rettangolo(n) che stampi a schermo un triangolo di cateti n e n formato utilizzando il carattere *\n",
        "#         Esempio:    3 ->  *           4 ->  *\n",
        "#                           * *               * *\n",
        "#                           * * *             * * *\n",
        "#                                             * * * *\n",
        "n = int(input(\"Inserisci il valore di n: \"))\n",
        "def triangolo_rettangolo(n):\n",
        "    if n > 0:\n",
        "        for y in range(n):\n",
        "            for x in range(y+1):\n",
        "                print(\"*\", end=\" \")\n",
        "            print()\n",
        "    else:\n",
        "        print(\"Non esiste questo valore per n\")\n",
        "\n",
        "triangolo_rettangolo(n)"
      ]
    },
    {
      "cell_type": "code",
      "execution_count": 16,
      "metadata": {
        "id": "iA9D4X_GSims"
      },
      "outputs": [
        {
          "name": "stdout",
          "output_type": "stream",
          "text": [
            "* * * * \n",
            "*     * \n",
            "*     * \n",
            "* * * * \n"
          ]
        }
      ],
      "source": [
        "# Es 6.4: Scrivi la funzione bordo_quadrato(n) che stampi a schermo un quadrato di lato nxn formato utilizzando il carattere * come contorno\n",
        "#         Esempio:    3 ->  * * *       4 ->  * * * *\n",
        "#                           *   *             *     *\n",
        "#                           * * *             *     *\n",
        "#                                             * * * * \n",
        "n = int(input(\"Inserisci il valore di n: \"))\n",
        "def bordo_quadrato(n):\n",
        "    if n > 0:\n",
        "        for y in range(n):\n",
        "            for x in range(n):\n",
        "                if y == 0 or y == n - 1 or x == 0 or x == n - 1:\n",
        "                    print(\"*\", end=\" \")\n",
        "                else:\n",
        "                    print(\" \", end=\" \")\n",
        "            print()\n",
        "    else:\n",
        "        print(\"Non esiste questo valore per n\")\n",
        "\n",
        "bordo_quadrato(n)"
      ]
    },
    {
      "cell_type": "code",
      "execution_count": 18,
      "metadata": {
        "colab": {
          "base_uri": "https://localhost:8080/"
        },
        "id": "1vlDMqo_4uNc",
        "outputId": "de4cc1b2-7110-4ad6-b86c-d67c5756c074"
      },
      "outputs": [
        {
          "name": "stdout",
          "output_type": "stream",
          "text": [
            "/ - - \\ \n",
            "|     | \n",
            "|     | \n",
            "\\ - - / \n"
          ]
        }
      ],
      "source": [
        "# Es 6.5: Scrivi la funzione bordo_quadrato_bello(n) che stampi a schermo un quadrato di lato nxn formato utilizzando iseguenti caratteri:\n",
        "#         Esempio:    3 ->  / - \\       4 ->  / - - \\\n",
        "#                           |   |             |     |\n",
        "#                           \\ - /             |     |\n",
        "#                                             \\ - - /\n",
        "# Per stampare \\ dovete utilizzare \"\\\\\" ovvero print(\"\\\\\")\n",
        "n = int(input(\"Inserisci il valore di n: \"))\n",
        "def bordo_quadrato_bello(n):\n",
        "    if n > 0:\n",
        "        for y in range(n):\n",
        "            for x in range(n):\n",
        "                if y == 0:\n",
        "                    if x == 0:\n",
        "                        print(\"/\", end=\" \")\n",
        "                    else:\n",
        "                        if x == n - 1:\n",
        "                            print(\"\\\\\", end=\" \")\n",
        "                        else:\n",
        "                            print(\"-\", end=\" \")\n",
        "                else:\n",
        "                    if y == n - 1:\n",
        "                        if x == 0:\n",
        "                            print(\"\\\\\", end=\" \")\n",
        "                        else:\n",
        "                            if x == n - 1:\n",
        "                                print(\"/\", end=\" \")\n",
        "                            else:\n",
        "                                print(\"-\", end=\" \")\n",
        "                    else:\n",
        "                        if x == 0 or x == n - 1:\n",
        "                            print(\"|\", end=\" \")\n",
        "                        else:\n",
        "                            print(\" \", end=\" \")\n",
        "            print()\n",
        "    else:\n",
        "        print(\"Non esiste questo valore per n\")\n",
        "\n",
        "bordo_quadrato_bello(n)"
      ]
    },
    {
      "cell_type": "code",
      "execution_count": 1,
      "metadata": {
        "id": "2E9Hk9kkv5Mx"
      },
      "outputs": [
        {
          "name": "stdout",
          "output_type": "stream",
          "text": [
            "^\\\n",
            "| \\\n",
            "|  \\\n",
            "|__ \\\n"
          ]
        }
      ],
      "source": [
        "# Es 6.6: Scrivi la funzione trianglo_bello(n) che stampi a schermo un triangolo di cateti n e n formato utilizzando iseguenti caratteri:\n",
        "#.   ^\\\n",
        "#    | \\\n",
        "#.   |  \\\n",
        "#.   |___\\\n",
        "n = int(input(\"Inserisci il valore di n:\"))\n",
        "def triangolo_bello(n):\n",
        "    if n>0:\n",
        "        for y in range(n):\n",
        "            if y == 0:\n",
        "                print(\"^\\\\\")\n",
        "            else:\n",
        "                print(\"|\", end=\"\")\n",
        "                for x in range(y - 1):\n",
        "                    print(\" \", end=\"\")\n",
        "                print(\" \\\\\")\n",
        "        print(\"|\", end=\"\")\n",
        "        for y in range(n - 1):\n",
        "            print(\"_\", end=\"\")\n",
        "        print(\" \\\\\")\n",
        "    else:\n",
        "        print(\"Non esiste questo valore per n\")\n",
        "\n",
        "triangolo_bello(n)"
      ]
    }
  ],
  "metadata": {
    "colab": {
      "provenance": []
    },
    "kernelspec": {
      "display_name": "Python 3",
      "name": "python3"
    },
    "language_info": {
      "codemirror_mode": {
        "name": "ipython",
        "version": 3
      },
      "file_extension": ".py",
      "mimetype": "text/x-python",
      "name": "python",
      "nbconvert_exporter": "python",
      "pygments_lexer": "ipython3",
      "version": "3.10.8"
    }
  },
  "nbformat": 4,
  "nbformat_minor": 0
}
