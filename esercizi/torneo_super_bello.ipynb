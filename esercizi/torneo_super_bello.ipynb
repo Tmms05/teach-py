{
 "cells": [
  {
   "cell_type": "code",
   "execution_count": 1,
   "metadata": {},
   "outputs": [
    {
     "name": "stdout",
     "output_type": "stream",
     "text": [
      "[('A', 'B'), ('A', 'C'), ('B', 'C')]\n"
     ]
    }
   ],
   "source": [
    "# Si ipotizzi di voler organizzare un torneo di uno sport a due squadre (calcio, pallavolo, beach ...)\n",
    "# Si crei una funzione girone(squadre) che prenda in ingresso una lista di squadre e restituisca la lista di partite del girone\n",
    "# esempio: torneo([\"A\",\"B\",\"C\"])  ->  [(\"A\",\"B\"), (\"A\",\"C\"), (\"B\",\"C\")] \n",
    "\n",
    "from itertools import combinations\n",
    "\n",
    "def girone(squadre):\n",
    "    partite = list(combinations(squadre, 2))\n",
    "    return partite\n",
    "\n",
    "squadre = [\"A\", \"B\", \"C\"]\n",
    "partite_girone = girone(squadre)\n",
    "print(partite_girone)\n"
   ]
  },
  {
   "cell_type": "code",
   "execution_count": null,
   "metadata": {},
   "outputs": [],
   "source": [
    "# Si crei una funzione torneo(numero_gironi,squadre) che prenda \n",
    "# in ingresso il numero di gironi e una lista di squadre e \n",
    "# restituisca la lista di partite di ogni girone\n",
    "# esempio: torneo(2,[\"A\",\"B\",\"C\",\"AA\",\"BB\",\"CC\"])  ->  \n",
    "# [[(\"A\",\"B\"),     (\"A\",\"C\"),    (\"B\",\"C\")],  \n",
    "# [(\"AA\",\"BB\"),   (\"AA\",\"CC\"),  (\"BB\",\"CC\")]]"
   ]
  },
  {
   "cell_type": "code",
   "execution_count": null,
   "metadata": {},
   "outputs": [],
   "source": [
    "# Si ipotizzi che successivamente a questi gironi venga svolta una fase ad eliminazione diretta.\n",
    "# Creare una funzione elimiazione() che prenda in ingresso la lista di squadre di prima fascia e\n",
    "# la lista di squadre di seconda fascia e generi le partite della fase ad eliminazione"
   ]
  },
  {
   "cell_type": "code",
   "execution_count": null,
   "metadata": {},
   "outputs": [],
   "source": []
  }
 ],
 "metadata": {
  "kernelspec": {
   "display_name": "Python 3",
   "language": "python",
   "name": "python3"
  },
  "language_info": {
   "codemirror_mode": {
    "name": "ipython",
    "version": 3
   },
   "file_extension": ".py",
   "mimetype": "text/x-python",
   "name": "python",
   "nbconvert_exporter": "python",
   "pygments_lexer": "ipython3",
   "version": "3.10.8"
  }
 },
 "nbformat": 4,
 "nbformat_minor": 2
}
