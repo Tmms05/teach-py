{
  "cells": [
    {
      "cell_type": "markdown",
      "metadata": {
        "id": "inJF5uifNBg0"
      },
      "source": [
        "# Esercizi"
      ]
    },
    {
      "cell_type": "code",
      "execution_count": 1,
      "metadata": {
        "id": "EFiuNikwM8hY"
      },
      "outputs": [
        {
          "name": "stdout",
          "output_type": "stream",
          "text": [
            "     * -  -  -  - *\n",
            "    * -  -  -  - *\n",
            "    * -  -  -  - *\n",
            "    * -  -  -  - *\n",
            "     * -  -  -  - *\n",
            "     | | | | |\n",
            "|    | | | | |\n",
            "|    | | | | |\n",
            "|    | | | | |\n",
            "* -  -  -  - * -  -  -  - *\n"
          ]
        }
      ],
      "source": [
        "# Es 7.1: Scrivi la funzione cubo(n) che stampi a schermo un quadrato di lato nxn formato utilizzando il carattere *\n",
        "#         Esempio:                       8 ->        * - - - - - - *     2 ->   * *\n",
        "#                                                  / |           / |          * * *\n",
        "#                                                /   |         /   |          * *\n",
        "#                                              /     |       /     |\n",
        "#                                            * - - - - - - *       |\n",
        "#                                            |       |     |       |\n",
        "#                                            |       |     |       |\n",
        "#                                            |       * - - | - - - *\n",
        "#                                            |     /       |     /\n",
        "#                                            |   /         |   /\n",
        "#                                            | /           | /\n",
        "#                                            * - - - - - - *\n",
        "n = int(input(\"Inserisci il valore di n: \"))\n",
        "def cubo(n):\n",
        "    for i in range(n):\n",
        "        \n",
        "\n",
        "cubo(n)"
      ]
    }
  ],
  "metadata": {
    "colab": {
      "provenance": []
    },
    "kernelspec": {
      "display_name": "Python 3",
      "name": "python3"
    },
    "language_info": {
      "codemirror_mode": {
        "name": "ipython",
        "version": 3
      },
      "file_extension": ".py",
      "mimetype": "text/x-python",
      "name": "python",
      "nbconvert_exporter": "python",
      "pygments_lexer": "ipython3",
      "version": "3.10.8"
    }
  },
  "nbformat": 4,
  "nbformat_minor": 0
}
