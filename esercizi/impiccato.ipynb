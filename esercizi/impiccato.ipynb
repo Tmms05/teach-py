{
  "cells": [
    {
      "cell_type": "code",
      "execution_count": 5,
      "metadata": {
        "id": "dEWxmkWc48Lz"
      },
      "outputs": [
        {
          "name": "stdout",
          "output_type": "stream",
          "text": [
            "Parola: _ _ _ _\n",
            "Lettera 'f' non presente. Tentativi rimasti:  5\n",
            "Parola: _ _ _ _\n",
            "Parola: c _ _ _\n",
            "Lettera 'o' non presente. Tentativi rimasti:  4\n",
            "Parola: c _ _ _\n",
            "Lettera 'i' non presente. Tentativi rimasti:  3\n",
            "Parola: c _ _ _\n",
            "Parola: c a _ a\n",
            "Complimenti, hai indovinato la parola: casa\n"
          ]
        }
      ],
      "source": [
        "# Es 8.1 Creare il gioco dell'impiccato\n",
        "# Suggerimento: per controllare se la lettera 'a' è presente all'interno della parola 'casa' si può usare:\n",
        "#\n",
        "# if 'a' in 'casa':\n",
        "#   print('Presente')\n",
        "def gioca_impiccato(parola_segreta):\n",
        "    parola_nascosta = ['_'] * len(parola_segreta)\n",
        "    tentativi_rimasti = 6  # Numero massimo di tentativi consentiti\n",
        "    lettere_indovinate = []\n",
        "\n",
        "    while tentativi_rimasti > 0 and '_' in parola_nascosta:\n",
        "        print(\"Parola: \" + \" \".join(parola_nascosta))\n",
        "        lettera = input(\"Indovina una lettera: \").lower()\n",
        "        if lettera in lettere_indovinate:\n",
        "            print(\"Hai già indovinato questa lettera.\")\n",
        "            continue\n",
        "        if lettera in parola_segreta:\n",
        "            for i in range(len(parola_segreta)):\n",
        "                if parola_segreta[i] == lettera:\n",
        "                    parola_nascosta[i] = lettera\n",
        "        else:\n",
        "            tentativi_rimasti = tentativi_rimasti - 1\n",
        "            print(f\"Lettera '{lettera}' non presente. Tentativi rimasti: \", tentativi_rimasti)\n",
        "\n",
        "        lettere_indovinate.append(lettera)\n",
        "    if '_' not in parola_nascosta:\n",
        "        print(\"Complimenti, hai indovinato la parola: \" + \"\".join(parola_nascosta))\n",
        "    else:\n",
        "        print(f\"Hai esaurito i tentativi. La parola segreta era: \",parola_segreta)\n",
        "\n",
        "\n",
        "parola_segreta = list(input(\"Inserisci una parola da indovinare: \"))\n",
        "\n",
        "\n",
        "gioca_impiccato(parola_segreta)\n",
        "\n",
        "    \n"
      ]
    }
  ],
  "metadata": {
    "colab": {
      "provenance": []
    },
    "kernelspec": {
      "display_name": "Python 3",
      "name": "python3"
    },
    "language_info": {
      "codemirror_mode": {
        "name": "ipython",
        "version": 3
      },
      "file_extension": ".py",
      "mimetype": "text/x-python",
      "name": "python",
      "nbconvert_exporter": "python",
      "pygments_lexer": "ipython3",
      "version": "3.10.8"
    }
  },
  "nbformat": 4,
  "nbformat_minor": 0
}
